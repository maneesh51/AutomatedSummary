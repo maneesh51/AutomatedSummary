{
 "cells": [
  {
   "cell_type": "markdown",
   "id": "26702f30",
   "metadata": {},
   "source": [
    "# Automated text summarization\n",
    "\n",
    "##### Anaconda env: streamlit. All spacy(==2...) language models are also installed there.\n",
    "https://rpubs.com/mohammadshadan/install_spacy\n",
    "\n",
    "### 1. Importing libs and data cleaning"
   ]
  },
  {
   "cell_type": "code",
   "execution_count": 54,
   "id": "eb6c8e8e",
   "metadata": {},
   "outputs": [
    {
     "name": "stdout",
     "output_type": "stream",
     "text": [
      "4036\n"
     ]
    }
   ],
   "source": [
    "import numpy as np\n",
    "import spacy\n",
    "from spacy.lang.en.stop_words import STOP_WORDS\n",
    "from string import punctuation\n",
    "import os\n",
    "import pandas as pd\n",
    "import io\n",
    "import re\n",
    "\n",
    "nlp = spacy.load('en_core_web_md')\n",
    "\n",
    "SampleDir = \"D:/Work/Programming/Udemy/Prj4_AutomatedSummary/\"\n",
    "\n",
    "read_file = io.open(os.path.join(SampleDir,\"sample.txt\"), \"r\", encoding = \"utf8\")\n",
    "text0 = read_file.read()\n",
    "read_file.close()\n",
    "text = text.replace(\"\\n\", \" \")\n",
    "re.sub('\\s{2,}', ' ', text)\n",
    "\n",
    "print(len(text))"
   ]
  },
  {
   "cell_type": "code",
   "execution_count": 55,
   "id": "fd532bd8",
   "metadata": {
    "scrolled": true
   },
   "outputs": [
    {
     "name": "stdout",
     "output_type": "stream",
     "text": [
      "['In', 'a', 'wide', 'variety', 'of', 'biological', 'processes', 'including', 'embryogenesis', ',', 'immune', 'cells', 'motility', ',', 'wound', 'healing', 'or', 'cancer', 'metastasis', ',', 'cells', 'sense', 'and', 'interpret', 'time', '-', 'varying', 'chemical', 'signals', 'that', 'reflect', 'the', 'non', '-', 'stationary', 'environment', 'to', 'which', 'they', 'readily', 'adapt', '.', 'It', 'has', 'been', ',', 'for', 'example', ',', 'demonstrated', 'that', 'time', '-', 'varying', 'growth', 'factor', 'signals', 'not', 'only', 'trigger', 'corresponding', 'phenotypic', 'output', 'in', 'cells', ',', 'but', 'a', 'range', 'of', 'input', 'frequencies', 'can', 'bias', 'towards', 'a', 'specific', 'function', 'i.e.', 'differentiation', ',', 'irrespective', 'of', 'growth', 'factor', 'identity', '.', 'Cells', ' ', 'can', 'also', 'direct', 'their', 'motility', 'through', 'continuously', 'changing', 'patterns', 'of', 'chemical', 'signals', 'such', 'as', 'travelling', 'waves', 'of', 'chemoattractants', ',', 'using', 'memory', 'of', 'stimulus', 'history', 'to', 'integrate', 'conflicting', 'signals', '.', 'Generally', ',', 'a', 'transient', 'memory', 'of', 'stimulus', 'history', 'is', 'a', 'main', 'requirement', 'for', 'systems', 'that', 'process', 'time', '-', 'varying', 'signals', ',', 'as', 'a', 'means', 'to', 'integrate', 'temporal', 'dependencies', 'inherent', 'in', 'the', 'signal', '.', 'How', 'cells', 'sense', 'the', 'growth', 'factors', 'from', 'their', 'environment', 'has', 'been', 'extensively', 'studied', 'using', 'equilibrium', 'and', 'non', '-', 'equilibrium', 'descriptions', 'of', 'sensing', 'through', 'ligand', 'binding', 'or', 'unbinding', 'dynamics', 'for', 'stationary', 'levels', 'of', 'receptors', 'and', 'ligands', '.', 'These', 'studies', 'provide', 'analysis', 'of', 'the', 'fundamental', 'limits', 'of', 'ligand', 'concentration', 'sensing', 'by', 'direct', 'mapping', 'to', 'receptor', 'occupancy', 'that', 'serves', 'as', 'a', 'proxy', 'for', 'receptor', 'activity', '.', 'However', ',', 'these', 'mapping', 'properties', 'can', 'not', 'satisfy', 'and', 'thereby', 'do', 'not', 'apply', 'to', 'systems', 'where', 'memory', 'requirements', 'are', 'necessary', 'for', 'integrating', 'time', '-', 'varying', 'signals', '.', 'Receptor', 'activity', 'dynamics', ',', 'on', 'the', 'other', 'hand', ',', 'is', 'not', 'only', 'influenced', 'by', 'ligand', 'binding', 'dynamics', ',', 'but', 'rather', 'reflects', 'the', 'dynamics', 'of', 'the', 'biochemical', 'network', 'in', 'which', 'the', 'receptor', 'is', 'embedded', '.', 'Non', '-', 'trivial', 'dynamical', 'solutions', 'can', 'hereby', 'emerge', ',', 'in', 'particular', 'due', 'to', 'recurrent', 'interactions', 'between', 'the', 'network', 'components', '.', 'In', 'a', 'broad', 'range', 'of', 'biological', 'systems', ',', 'positive', 'feedback', 'interactions', 'give', 'rise', 'to', 'bistable', 'dynamics', ',', 'which', 'is', 'considered', 'to', 'underlie', 'memory', 'features', '.', 'However', ',', 'signal', '-', 'induced', 'switching', 'between', 'basal', 'and', 'high', 'receptor', 'activity', 'states', ',', 'and', 'thereby', 'permanent', 'memory', 'formation', ',', 'limits', 'response', 'to', 'upcoming', 'stimuli', '.', 'To', 'overcome', 'equivalent', 'limitations', 'of', 'stable', 'states', ',', 'information', 'processing', 'in', 'the', 'context', 'of', 'real', '-', 'time', 'computations', 'of', 'sensory', 'stimuli', 'by', 'neural', 'microcircuits', ',', 'universal', 'frameworks', 'using', 'transient', 'dynamics', 'and', 'state', '-', 'dependent', 'trajectories', 'have', 'been', 'proposed', '.', 'These', 'formalisms', 'typically', 'contain', 'highdimensional', 'state', 'representations', 'and', 'non', '-', 'linear', 'intrinsic', 'activation', 'dynamics', 'of', 'the', 'neuron', 'components', 'and', 'thus', 'can', 'not', 'be', 'directly', 'translated', 'to', 'biochemical', 'networks', '.', 'Therefore', ',', 'a', 'conceptual', 'framework', 'that', 'describes', 'processing', 'of', 'time', '-', 'varying', 'signals', 'on', 'the', 'level', 'of', 'cellular', 'sensing', 'networks', 'is', 'lacking', '.', 'We', 'propose', 'here', 'a', 'saddle', '-', 'node', '(', 'SN', ')', '“', 'ghost', '”', 'as', 'a', 'minimal', 'dynamical', 'mechanism', 'that', 'enables', 'processing', 'of', 'time', '-', 'varying', 'growth', 'factor', 'signals', '.', 'Critical', 'organization', 'in', 'a', 'vicinity', 'of', 'a', 'SN', 'bifurcation', 'enables', 'transient', 'memory', 'of', 'receptor', 'activity', 'to', 'be', 'realized', 'via', 'the', 'metastable', '“', 'ghost', '”', 'state', '.', 'In', 'contrast', 'to', 'the', 'short-', 'or', 'long', '-', 'term', 'memory', 'that', 'stem', 'from', 'stable', 'attractors', ',', 'we', 'demonstrate', 'that', 'this', 'transient', 'memory', 'is', 'dynamic', 'and', 'thereby', 'uniquely', 'promotes', 'integrating', 'and', 'interpreting', 'complex', 'temporal', 'growth', 'factor', 'signals', '.', 'A', 'clear', 'distinction', 'between', 'a', 'transient', 'memory', 'that', 'reflects', 'a', 'dynamical', 'state', 'to', 'a', 'kinetic', 'relaxation', 'of', 'receptor', 'activity', 'in', 'terms', 'of', 'the', 'signal', 'integration', 'capabilities', 'is', 'also', 'shown', '.', 'Using', 'single', '-', 'molecule', 'reaction', '–', 'diffusion', 'simulations', 'on', 'the', 'other', 'hand', ',', 'we', 'depict', 'how', 'such', 'dynamic', 'memory', 'can', 'be', 'realized', 'on', 'molecular', 'level', '.', 'Based', 'on', 'the', 'experimental', 'findings', 'that', 'the', 'epidermal', 'growth', 'factor', 'receptor', '(', 'EGFR', ')', 'system', 'operates', 'at', 'critical', 'organization', ',', 'we', 'propose', 'a', 'fluctuation', '-', 'sensing', 'mechanism', 'as', 'a', 'basis', 'for', 'self', '-', 'organized', 'maintenance', 'at', 'the', 'critical', 'region', 'and', 'discuss', 'its', 'limitations', '.', 'We', 'further', 'discuss', 'why', 'organization', 'at', 'criticality', 'represents', 'a', 'generic', 'dynamical', 'mechanism', 'which', 'enables', 'processing', 'of', 'time', '-', 'varying', 'growth', 'factor', 'signals', 'by', 'cell', 'surface', 'receptors', '.']\n"
     ]
    }
   ],
   "source": [
    "doc = nlp(text)\n",
    "tokens = [token.text for token in doc]\n",
    "\n",
    "print(tokens)"
   ]
  },
  {
   "cell_type": "code",
   "execution_count": 65,
   "id": "f5493ce8",
   "metadata": {},
   "outputs": [
    {
     "data": {
      "text/plain": [
       "'!\"#$%&\\'()*+,-./:;<=>?@[\\\\]^_`{|}~\\n\\n'"
      ]
     },
     "execution_count": 65,
     "metadata": {},
     "output_type": "execute_result"
    }
   ],
   "source": [
    "punctuation1 = punctuation + '\\n'\n",
    "punctuation1"
   ]
  },
  {
   "cell_type": "markdown",
   "id": "42eaedcc",
   "metadata": {},
   "source": [
    "## 2. Text cleaning"
   ]
  },
  {
   "cell_type": "code",
   "execution_count": 66,
   "id": "65920e48",
   "metadata": {
    "scrolled": true
   },
   "outputs": [
    {
     "name": "stdout",
     "output_type": "stream",
     "text": [
      "{'wide': 1, 'variety': 1, 'biological': 2, 'processes': 1, 'including': 1, 'embryogenesis': 1, 'immune': 1, 'cells': 4, 'motility': 2, 'wound': 1, 'healing': 1, 'cancer': 1, 'metastasis': 1, 'sense': 2, 'interpret': 1, 'time': 8, 'varying': 7, 'chemical': 2, 'signals': 10, 'reflect': 1, 'non': 3, 'stationary': 2, 'environment': 2, 'readily': 1, 'adapt': 1, 'example': 1, 'demonstrated': 1, 'growth': 7, 'factor': 6, 'trigger': 1, 'corresponding': 1, 'phenotypic': 1, 'output': 1, 'range': 2, 'input': 1, 'frequencies': 1, 'bias': 1, 'specific': 1, 'function': 1, 'i.e.': 1, 'differentiation': 1, 'irrespective': 1, 'identity': 1, 'Cells': 1, ' ': 1, 'direct': 2, 'continuously': 1, 'changing': 1, 'patterns': 1, 'travelling': 1, 'waves': 1, 'chemoattractants': 1, 'memory': 10, 'stimulus': 2, 'history': 2, 'integrate': 2, 'conflicting': 1, 'Generally': 1, 'transient': 5, 'main': 1, 'requirement': 1, 'systems': 3, 'process': 1, 'means': 1, 'temporal': 2, 'dependencies': 1, 'inherent': 1, 'signal': 3, 'factors': 1, 'extensively': 1, 'studied': 1, 'equilibrium': 2, 'descriptions': 1, 'sensing': 4, 'ligand': 3, 'binding': 2, 'unbinding': 1, 'dynamics': 7, 'levels': 1, 'receptors': 2, 'ligands': 1, 'studies': 1, 'provide': 1, 'analysis': 1, 'fundamental': 1, 'limits': 2, 'concentration': 1, 'mapping': 2, 'receptor': 7, 'occupancy': 1, 'serves': 1, 'proxy': 1, 'activity': 5, 'properties': 1, 'satisfy': 1, 'apply': 1, 'requirements': 1, 'necessary': 1, 'integrating': 2, 'Receptor': 1, 'hand': 2, 'influenced': 1, 'reflects': 2, 'biochemical': 2, 'network': 2, 'embedded': 1, 'Non': 1, 'trivial': 1, 'dynamical': 4, 'solutions': 1, 'emerge': 1, 'particular': 1, 'recurrent': 1, 'interactions': 2, 'components': 2, 'broad': 1, 'positive': 1, 'feedback': 1, 'rise': 1, 'bistable': 1, 'considered': 1, 'underlie': 1, 'features': 1, 'induced': 1, 'switching': 1, 'basal': 1, 'high': 1, 'states': 2, 'permanent': 1, 'formation': 1, 'response': 1, 'upcoming': 1, 'stimuli': 2, 'overcome': 1, 'equivalent': 1, 'limitations': 2, 'stable': 2, 'information': 1, 'processing': 4, 'context': 1, 'real': 1, 'computations': 1, 'sensory': 1, 'neural': 1, 'microcircuits': 1, 'universal': 1, 'frameworks': 1, 'state': 4, 'dependent': 1, 'trajectories': 1, 'proposed': 1, 'formalisms': 1, 'typically': 1, 'contain': 1, 'highdimensional': 1, 'representations': 1, 'linear': 1, 'intrinsic': 1, 'activation': 1, 'neuron': 1, 'directly': 1, 'translated': 1, 'networks': 2, 'conceptual': 1, 'framework': 1, 'describes': 1, 'level': 2, 'cellular': 1, 'lacking': 1, 'propose': 2, 'saddle': 1, 'node': 1, 'SN': 2, '“': 2, 'ghost': 2, '”': 2, 'minimal': 1, 'mechanism': 3, 'enables': 3, 'Critical': 1, 'organization': 3, 'vicinity': 1, 'bifurcation': 1, 'realized': 2, 'metastable': 1, 'contrast': 1, 'short-': 1, 'long': 1, 'term': 1, 'stem': 1, 'attractors': 1, 'demonstrate': 1, 'dynamic': 2, 'uniquely': 1, 'promotes': 1, 'interpreting': 1, 'complex': 1, 'clear': 1, 'distinction': 1, 'kinetic': 1, 'relaxation': 1, 'terms': 1, 'integration': 1, 'capabilities': 1, 'shown': 1, 'single': 1, 'molecule': 1, 'reaction': 1, '–': 1, 'diffusion': 1, 'simulations': 1, 'depict': 1, 'molecular': 1, 'Based': 1, 'experimental': 1, 'findings': 1, 'epidermal': 1, 'EGFR': 1, 'system': 1, 'operates': 1, 'critical': 2, 'fluctuation': 1, 'basis': 1, 'self': 1, 'organized': 1, 'maintenance': 1, 'region': 1, 'discuss': 2, 'criticality': 1, 'represents': 1, 'generic': 1, 'cell': 1, 'surface': 1}\n"
     ]
    }
   ],
   "source": [
    "### creating word frequency counter -> how mny times a (non stop and non punctuation) word is appearing\n",
    "\n",
    "word_freq={}\n",
    "stop_words = list(STOP_WORDS)\n",
    "\n",
    "for word in doc:\n",
    "    if word.text.lower() not in stop_words:\n",
    "        if word.text.lower() not in punctuation1:\n",
    "            if word.text not in word_freq.keys():\n",
    "                word_freq[word.text] = 1\n",
    "            else:\n",
    "                word_freq[word.text] += 1\n",
    "            \n",
    "print(word_freq)"
   ]
  },
  {
   "cell_type": "code",
   "execution_count": 67,
   "id": "bfc7a812",
   "metadata": {
    "scrolled": true
   },
   "outputs": [
    {
     "name": "stdout",
     "output_type": "stream",
     "text": [
      "{'wide': 0.1, 'variety': 0.1, 'biological': 0.2, 'processes': 0.1, 'including': 0.1, 'embryogenesis': 0.1, 'immune': 0.1, 'cells': 0.4, 'motility': 0.2, 'wound': 0.1, 'healing': 0.1, 'cancer': 0.1, 'metastasis': 0.1, 'sense': 0.2, 'interpret': 0.1, 'time': 0.8, 'varying': 0.7, 'chemical': 0.2, 'signals': 1.0, 'reflect': 0.1, 'non': 0.3, 'stationary': 0.2, 'environment': 0.2, 'readily': 0.1, 'adapt': 0.1, 'example': 0.1, 'demonstrated': 0.1, 'growth': 0.7, 'factor': 0.6, 'trigger': 0.1, 'corresponding': 0.1, 'phenotypic': 0.1, 'output': 0.1, 'range': 0.2, 'input': 0.1, 'frequencies': 0.1, 'bias': 0.1, 'specific': 0.1, 'function': 0.1, 'i.e.': 0.1, 'differentiation': 0.1, 'irrespective': 0.1, 'identity': 0.1, 'Cells': 0.1, ' ': 0.1, 'direct': 0.2, 'continuously': 0.1, 'changing': 0.1, 'patterns': 0.1, 'travelling': 0.1, 'waves': 0.1, 'chemoattractants': 0.1, 'memory': 1.0, 'stimulus': 0.2, 'history': 0.2, 'integrate': 0.2, 'conflicting': 0.1, 'Generally': 0.1, 'transient': 0.5, 'main': 0.1, 'requirement': 0.1, 'systems': 0.3, 'process': 0.1, 'means': 0.1, 'temporal': 0.2, 'dependencies': 0.1, 'inherent': 0.1, 'signal': 0.3, 'factors': 0.1, 'extensively': 0.1, 'studied': 0.1, 'equilibrium': 0.2, 'descriptions': 0.1, 'sensing': 0.4, 'ligand': 0.3, 'binding': 0.2, 'unbinding': 0.1, 'dynamics': 0.7, 'levels': 0.1, 'receptors': 0.2, 'ligands': 0.1, 'studies': 0.1, 'provide': 0.1, 'analysis': 0.1, 'fundamental': 0.1, 'limits': 0.2, 'concentration': 0.1, 'mapping': 0.2, 'receptor': 0.7, 'occupancy': 0.1, 'serves': 0.1, 'proxy': 0.1, 'activity': 0.5, 'properties': 0.1, 'satisfy': 0.1, 'apply': 0.1, 'requirements': 0.1, 'necessary': 0.1, 'integrating': 0.2, 'Receptor': 0.1, 'hand': 0.2, 'influenced': 0.1, 'reflects': 0.2, 'biochemical': 0.2, 'network': 0.2, 'embedded': 0.1, 'Non': 0.1, 'trivial': 0.1, 'dynamical': 0.4, 'solutions': 0.1, 'emerge': 0.1, 'particular': 0.1, 'recurrent': 0.1, 'interactions': 0.2, 'components': 0.2, 'broad': 0.1, 'positive': 0.1, 'feedback': 0.1, 'rise': 0.1, 'bistable': 0.1, 'considered': 0.1, 'underlie': 0.1, 'features': 0.1, 'induced': 0.1, 'switching': 0.1, 'basal': 0.1, 'high': 0.1, 'states': 0.2, 'permanent': 0.1, 'formation': 0.1, 'response': 0.1, 'upcoming': 0.1, 'stimuli': 0.2, 'overcome': 0.1, 'equivalent': 0.1, 'limitations': 0.2, 'stable': 0.2, 'information': 0.1, 'processing': 0.4, 'context': 0.1, 'real': 0.1, 'computations': 0.1, 'sensory': 0.1, 'neural': 0.1, 'microcircuits': 0.1, 'universal': 0.1, 'frameworks': 0.1, 'state': 0.4, 'dependent': 0.1, 'trajectories': 0.1, 'proposed': 0.1, 'formalisms': 0.1, 'typically': 0.1, 'contain': 0.1, 'highdimensional': 0.1, 'representations': 0.1, 'linear': 0.1, 'intrinsic': 0.1, 'activation': 0.1, 'neuron': 0.1, 'directly': 0.1, 'translated': 0.1, 'networks': 0.2, 'conceptual': 0.1, 'framework': 0.1, 'describes': 0.1, 'level': 0.2, 'cellular': 0.1, 'lacking': 0.1, 'propose': 0.2, 'saddle': 0.1, 'node': 0.1, 'SN': 0.2, '“': 0.2, 'ghost': 0.2, '”': 0.2, 'minimal': 0.1, 'mechanism': 0.3, 'enables': 0.3, 'Critical': 0.1, 'organization': 0.3, 'vicinity': 0.1, 'bifurcation': 0.1, 'realized': 0.2, 'metastable': 0.1, 'contrast': 0.1, 'short-': 0.1, 'long': 0.1, 'term': 0.1, 'stem': 0.1, 'attractors': 0.1, 'demonstrate': 0.1, 'dynamic': 0.2, 'uniquely': 0.1, 'promotes': 0.1, 'interpreting': 0.1, 'complex': 0.1, 'clear': 0.1, 'distinction': 0.1, 'kinetic': 0.1, 'relaxation': 0.1, 'terms': 0.1, 'integration': 0.1, 'capabilities': 0.1, 'shown': 0.1, 'single': 0.1, 'molecule': 0.1, 'reaction': 0.1, '–': 0.1, 'diffusion': 0.1, 'simulations': 0.1, 'depict': 0.1, 'molecular': 0.1, 'Based': 0.1, 'experimental': 0.1, 'findings': 0.1, 'epidermal': 0.1, 'EGFR': 0.1, 'system': 0.1, 'operates': 0.1, 'critical': 0.2, 'fluctuation': 0.1, 'basis': 0.1, 'self': 0.1, 'organized': 0.1, 'maintenance': 0.1, 'region': 0.1, 'discuss': 0.2, 'criticality': 0.1, 'represents': 0.1, 'generic': 0.1, 'cell': 0.1, 'surface': 0.1}\n"
     ]
    }
   ],
   "source": [
    "### norrmalizing using max frequency\n",
    "\n",
    "max_freq = max(word_freq.values())\n",
    "\n",
    "for word in word_freq.keys():\n",
    "    word_freq[word] = word_freq[word]/max_freq\n",
    "\n",
    "print(word_freq)"
   ]
  },
  {
   "cell_type": "markdown",
   "id": "a49b99ab",
   "metadata": {},
   "source": [
    "## Sentence tokenization"
   ]
  },
  {
   "cell_type": "code",
   "execution_count": 59,
   "id": "06c154b2",
   "metadata": {
    "scrolled": true
   },
   "outputs": [
    {
     "name": "stdout",
     "output_type": "stream",
     "text": [
      "[In a wide variety of biological processes including embryogenesis, immune cells motility, wound healing or cancer metastasis, cells sense and interpret time-varying chemical signals that reflect the non-stationary environment to which they readily adapt., It has been, for example, demonstrated that time-varying growth factor signals not only trigger corresponding phenotypic output in cells, but a range of input frequencies can bias towards a specific function i.e. differentiation, irrespective of growth factor identity., Cells  can also direct their motility through continuously changing patterns of chemical signals such as travelling waves of chemoattractants, using memory of stimulus history to integrate conflicting signals., Generally, a transient memory of stimulus history is a main requirement for systems that process time-varying signals, as a means to integrate temporal dependencies inherent in the signal., How cells sense the growth factors from their environment has been extensively studied using equilibrium and non-equilibrium descriptions of sensing through ligand binding or unbinding dynamics for stationary levels of receptors and ligands., These studies provide analysis of the fundamental limits of ligand concentration sensing by direct mapping to receptor occupancy that serves as a proxy for receptor activity., However, these mapping properties cannot satisfy and thereby do not apply to systems where memory requirements are necessary for integrating time-varying signals., Receptor activity dynamics, on the other hand, is not only influenced by ligand binding dynamics, but rather reflects the dynamics of the biochemical network in which the receptor is embedded., Non-trivial dynamical solutions can hereby emerge, in particular due to recurrent interactions between the network components., In a broad range of biological systems, positive feedback interactions give rise to bistable dynamics, which is considered to underlie memory features., However, signal-induced switching between basal and high receptor activity states, and thereby permanent memory formation, limits response to upcoming stimuli., To overcome equivalent limitations of stable states, information processing in the context of real-time computations of sensory stimuli by neural microcircuits, universal frameworks using transient dynamics and state-dependent trajectories have been proposed., These formalisms typically contain highdimensional state representations and non-linear intrinsic activation dynamics of the neuron components and thus cannot be directly translated to biochemical networks., Therefore, a conceptual framework that describes processing of time-varying signals on the level of cellular sensing networks is lacking., We propose here a saddle-node (SN) “ghost” as a minimal dynamical mechanism that enables processing of time-varying growth factor signals., Critical organization in a vicinity of a SN bifurcation enables transient memory of receptor activity to be realized via the metastable “ghost” state., In contrast to the short- or long-term memory that stem from stable attractors, we demonstrate that this transient memory is dynamic and thereby uniquely promotes integrating and interpreting complex temporal growth factor signals., A clear distinction between a transient memory that reflects a dynamical state to a kinetic relaxation of receptor activity in terms of the signal integration capabilities is also shown., Using single-molecule reaction–diffusion simulations on the other hand, we depict how such dynamic memory can be realized on molecular level., Based on the experimental findings that the epidermal growth factor receptor (EGFR) system operates at critical organization, we propose a fluctuation-sensing mechanism as a basis for self-organized maintenance at the critical region and discuss its limitations., We further discuss why organization at criticality represents a generic dynamical mechanism which enables processing of time-varying growth factor signals by cell surface receptors.]\n"
     ]
    }
   ],
   "source": [
    "sent_tokens = [sent for sent in doc.sents]\n",
    "\n",
    "print(sent_tokens)"
   ]
  },
  {
   "cell_type": "code",
   "execution_count": 60,
   "id": "8a570742",
   "metadata": {
    "scrolled": true
   },
   "outputs": [
    {
     "name": "stdout",
     "output_type": "stream",
     "text": [
      "{In a wide variety of biological processes including embryogenesis, immune cells motility, wound healing or cancer metastasis, cells sense and interpret time-varying chemical signals that reflect the non-stationary environment to which they readily adapt.: 6.2, It has been, for example, demonstrated that time-varying growth factor signals not only trigger corresponding phenotypic output in cells, but a range of input frequencies can bias towards a specific function i.e. differentiation, irrespective of growth factor identity.: 7.199999999999996, Cells  can also direct their motility through continuously changing patterns of chemical signals such as travelling waves of chemoattractants, using memory of stimulus history to integrate conflicting signals.: 5.4, Generally, a transient memory of stimulus history is a main requirement for systems that process time-varying signals, as a means to integrate temporal dependencies inherent in the signal.: 5.999999999999999, How cells sense the growth factors from their environment has been extensively studied using equilibrium and non-equilibrium descriptions of sensing through ligand binding or unbinding dynamics for stationary levels of receptors and ligands.: 4.9, These studies provide analysis of the fundamental limits of ligand concentration sensing by direct mapping to receptor occupancy that serves as a proxy for receptor activity.: 4.0, However, these mapping properties cannot satisfy and thereby do not apply to systems where memory requirements are necessary for integrating time-varying signals.: 4.7, Receptor activity dynamics, on the other hand, is not only influenced by ligand binding dynamics, but rather reflects the dynamics of the biochemical network in which the receptor is embedded.: 5.500000000000001, Non-trivial dynamical solutions can hereby emerge, in particular due to recurrent interactions between the network components.: 1.8, In a broad range of biological systems, positive feedback interactions give rise to bistable dynamics, which is considered to underlie memory features.: 3.4000000000000004, However, signal-induced switching between basal and high receptor activity states, and thereby permanent memory formation, limits response to upcoming stimuli.: 3.900000000000001, To overcome equivalent limitations of stable states, information processing in the context of real-time computations of sensory stimuli by neural microcircuits, universal frameworks using transient dynamics and state-dependent trajectories have been proposed.: 5.0, These formalisms typically contain highdimensional state representations and non-linear intrinsic activation dynamics of the neuron components and thus cannot be directly translated to biochemical networks.: 3.100000000000001, Therefore, a conceptual framework that describes processing of time-varying signals on the level of cellular sensing networks is lacking.: 4.2, We propose here a saddle-node (SN) “ghost” as a minimal dynamical mechanism that enables processing of time-varying growth factor signals.: 6.3, Critical organization in a vicinity of a SN bifurcation enables transient memory of receptor activity to be realized via the metastable “ghost” state.: 5.000000000000001, In contrast to the short- or long-term memory that stem from stable attractors, we demonstrate that this transient memory is dynamic and thereby uniquely promotes integrating and interpreting complex temporal growth factor signals.: 6.7, A clear distinction between a transient memory that reflects a dynamical state to a kinetic relaxation of receptor activity in terms of the signal integration capabilities is also shown.: 4.799999999999998, Using single-molecule reaction–diffusion simulations on the other hand, we depict how such dynamic memory can be realized on molecular level.: 2.6000000000000005, Based on the experimental findings that the epidermal growth factor receptor (EGFR) system operates at critical organization, we propose a fluctuation-sensing mechanism as a basis for self-organized maintenance at the critical region and discuss its limitations.: 5.099999999999999, We further discuss why organization at criticality represents a generic dynamical mechanism which enables processing of time-varying growth factor signals by cell surface receptors.: 6.3999999999999995}\n"
     ]
    }
   ],
   "source": [
    "### giving score to individual words in each sentence.\n",
    "\n",
    "sent_score = {}\n",
    "\n",
    "for sent in sent_tokens:\n",
    "    for word in sent:\n",
    "        if word.text.lower() in word_freq.keys():\n",
    "            if sent not in sent_score.keys():\n",
    "                sent_score[sent] = word_freq[word.text.lower()]\n",
    "            else:\n",
    "                sent_score[sent] += word_freq[word.text.lower()]\n",
    "                \n",
    "print(sent_score)"
   ]
  },
  {
   "cell_type": "markdown",
   "id": "9f6457d3",
   "metadata": {},
   "source": [
    "## 4. Select top 30% scoring sentences "
   ]
  },
  {
   "cell_type": "code",
   "execution_count": 61,
   "id": "9d21d4af",
   "metadata": {},
   "outputs": [
    {
     "data": {
      "text/plain": [
       "6"
      ]
     },
     "execution_count": 61,
     "metadata": {},
     "output_type": "execute_result"
    }
   ],
   "source": [
    "### grab sentences with max. score : first 30%\n",
    "### those sentences will become the summary of article\n",
    "\n",
    "from heapq import nlargest\n",
    "\n",
    "TopSentsNum = round(len(sent_score)*0.3)\n",
    "TopSentsNum"
   ]
  },
  {
   "cell_type": "code",
   "execution_count": 62,
   "id": "1830d2d4",
   "metadata": {},
   "outputs": [
    {
     "name": "stdout",
     "output_type": "stream",
     "text": [
      "[It has been, for example, demonstrated that time-varying growth factor signals not only trigger corresponding phenotypic output in cells, but a range of input frequencies can bias towards a specific function i.e. differentiation, irrespective of growth factor identity., In contrast to the short- or long-term memory that stem from stable attractors, we demonstrate that this transient memory is dynamic and thereby uniquely promotes integrating and interpreting complex temporal growth factor signals., We further discuss why organization at criticality represents a generic dynamical mechanism which enables processing of time-varying growth factor signals by cell surface receptors., We propose here a saddle-node (SN) “ghost” as a minimal dynamical mechanism that enables processing of time-varying growth factor signals., In a wide variety of biological processes including embryogenesis, immune cells motility, wound healing or cancer metastasis, cells sense and interpret time-varying chemical signals that reflect the non-stationary environment to which they readily adapt., Generally, a transient memory of stimulus history is a main requirement for systems that process time-varying signals, as a means to integrate temporal dependencies inherent in the signal.]\n"
     ]
    }
   ],
   "source": [
    "summary = nlargest(TopSentsNum, iterable=sent_score, key=sent_score.get)\n",
    "\n",
    "print(summary)"
   ]
  },
  {
   "cell_type": "code",
   "execution_count": 63,
   "id": "10f8dee7",
   "metadata": {},
   "outputs": [
    {
     "name": "stdout",
     "output_type": "stream",
     "text": [
      "It has been, for example, demonstrated that time-varying growth factor signals not only trigger corresponding phenotypic output in cells, but a range of input frequencies can bias towards a specific function i.e. differentiation, irrespective of growth factor identity. In contrast to the short- or long-term memory that stem from stable attractors, we demonstrate that this transient memory is dynamic and thereby uniquely promotes integrating and interpreting complex temporal growth factor signals. We further discuss why organization at criticality represents a generic dynamical mechanism which enables processing of time-varying growth factor signals by cell surface receptors. We propose here a saddle-node (SN) “ghost” as a minimal dynamical mechanism that enables processing of time-varying growth factor signals. In a wide variety of biological processes including embryogenesis, immune cells motility, wound healing or cancer metastasis, cells sense and interpret time-varying chemical signals that reflect the non-stationary environment to which they readily adapt. Generally, a transient memory of stimulus history is a main requirement for systems that process time-varying signals, as a means to integrate temporal dependencies inherent in the signal.\n"
     ]
    }
   ],
   "source": [
    "### combining these sentences together\n",
    "\n",
    "\n",
    "final_summary = [word.text for word in summary]\n",
    "final_summary = \" \".join(final_summary)\n",
    "print(final_summary)"
   ]
  },
  {
   "cell_type": "code",
   "execution_count": 64,
   "id": "1455f781",
   "metadata": {},
   "outputs": [
    {
     "data": {
      "text/plain": [
       "0.31367690782953417"
      ]
     },
     "execution_count": 64,
     "metadata": {},
     "output_type": "execute_result"
    }
   ],
   "source": [
    "len(final_summary)/len(text)"
   ]
  },
  {
   "cell_type": "code",
   "execution_count": 76,
   "id": "13b1acd3",
   "metadata": {},
   "outputs": [
    {
     "data": {
      "image/png": "[encoded data removed]",
      "text/plain": [
       "<Figure size 432x288 with 1 Axes>"
      ]
     },
     "metadata": {
      "needs_background": "light"
     },
     "output_type": "display_data"
    }
   ],
   "source": [
    "import matplotlib.pyplot as plt\n",
    "fig = plt.figure()\n",
    "\n",
    "texts = ['Original text', 'Summary']\n",
    "data = [len(text), len(final_summary)]\n",
    "plt.bar(texts,data)\n",
    "\n",
    "plt.ylabel('Word count', fontsize=25)\n",
    "plt.xticks(fontsize=20)\n",
    "\n",
    "plt.show()"
   ]
  },
  {
   "cell_type": "code",
   "execution_count": null,
   "id": "e37bce2a",
   "metadata": {},
   "outputs": [],
   "source": []
  },
  {
   "cell_type": "code",
   "execution_count": null,
   "id": "4f518ca0",
   "metadata": {},
   "outputs": [],
   "source": []
  },
  {
   "cell_type": "code",
   "execution_count": null,
   "id": "1689ec09",
   "metadata": {},
   "outputs": [],
   "source": []
  },
  {
   "cell_type": "code",
   "execution_count": null,
   "id": "73e8ccbb",
   "metadata": {},
   "outputs": [],
   "source": []
  }
 ],
 "metadata": {
  "kernelspec": {
   "display_name": "Python 3 (ipykernel)",
   "language": "python",
   "name": "python3"
  },
  "language_info": {
   "codemirror_mode": {
    "name": "ipython",
    "version": 3
   },
   "file_extension": ".py",
   "mimetype": "text/x-python",
   "name": "python",
   "nbconvert_exporter": "python",
   "pygments_lexer": "ipython3",
   "version": "3.8.12"
  }
 },
 "nbformat": 4,
 "nbformat_minor": 5
}
